{
 "cells": [
  {
   "cell_type": "code",
   "execution_count": 1,
   "metadata": {},
   "outputs": [
    {
     "name": "stdout",
     "output_type": "stream",
     "text": [
      "PyTorch version: 1.0.0\n",
      "torchvision verseion: 0.2.1\n",
      "Is GPU avaibale: True\n"
     ]
    }
   ],
   "source": [
    "import numpy as np\n",
    "import matplotlib.pyplot as plt\n",
    "\n",
    "import torch\n",
    "from torch import nn, optim\n",
    "from torch.nn import functional as F\n",
    "from torch.utils.data import DataLoader\n",
    "\n",
    "import torchvision\n",
    "from torchvision import datasets, transforms\n",
    "from torchvision.utils import make_grid, save_image\n",
    "\n",
    "print('PyTorch version:', torch.__version__)\n",
    "print('torchvision verseion:', torchvision.__version__)\n",
    "print('Is GPU avaibale:', torch.cuda.is_available())"
   ]
  },
  {
   "cell_type": "code",
   "execution_count": 29,
   "metadata": {},
   "outputs": [],
   "source": [
    "# general settings (バッチサイズとデバイス)\n",
    "batchsize = 128\n",
    "device = torch.device('cuda' if torch.cuda.is_available() else 'cpu')"
   ]
  },
  {
   "cell_type": "code",
   "execution_count": 30,
   "metadata": {},
   "outputs": [
    {
     "name": "stdout",
     "output_type": "stream",
     "text": [
      "the number of training data: 60000\n",
      "the number of validation data: 10000\n"
     ]
    }
   ],
   "source": [
    "# データセットの準備\n",
    "# Tensorにしつつ、 (-1 ~ 1)の範囲に正規化\n",
    "tf = transforms.Compose([transforms.ToTensor(), \n",
    "                         transforms.Normalize((0.5, 0.5, 0.5), (0.5, 0.5, 0.5))])\n",
    "\n",
    "# データセットをロード(今回はMNIST)\n",
    "# 本当はtraining data, validation data, test dataに分けるべきだが、今回は簡便のため2つに分ける.\n",
    "mnist_train = datasets.MNIST(root = '../../data/MNIST',\n",
    "                                 train = True,\n",
    "                                 transform = tf,\n",
    "                                 download = False)\n",
    "mnist_validation = datasets.MNIST(root = '../../data/MNIST',\n",
    "                                      train = False,\n",
    "                                      transform = tf)\n",
    "\n",
    "# データローダーを作成\n",
    "mnist_train_loader = DataLoader(mnist_train, batch_size = batchsize, shuffle = True)\n",
    "mnist_validation_loader = DataLoader(mnist_validation, batch_size = batchsize, shuffle = False)\n",
    "\n",
    "print('the number of training data:', len(mnist_train))\n",
    "print('the number of validation data:', len(mnist_validation))"
   ]
  },
  {
   "cell_type": "code",
   "execution_count": 33,
   "metadata": {},
   "outputs": [
    {
     "name": "stdout",
     "output_type": "stream",
     "text": [
      "torch.Size([1, 28, 28])\n"
     ]
    },
    {
     "data": {
      "image/png": "[encoded data removed]",
      "text/plain": [
       "<matplotlib.figure.Figure at 0x7facf55630b8>"
      ]
     },
     "metadata": {
      "needs_background": "light"
     },
     "output_type": "display_data"
    }
   ],
   "source": [
    "# 可視化のための関数\n",
    "def show_image(img):\n",
    "    npimg = img.numpy() * 0.5 + 0.5\n",
    "    plt.figure(figsize = (5, 5))\n",
    "    plt.axis('off')\n",
    "    plt.imshow(np.transpose(npimg, (1, 2, 0)))\n",
    "    \n",
    "images, labels = iter(mnist_train_loader).next()\n",
    "# 25画像をまとめて表示\n",
    "show_image(make_grid(images[:25], nrow=5, padding=1))\n",
    "# 画像の形状（channel, height, width）\n",
    "print(images[0].size())"
   ]
  },
  {
   "cell_type": "code",
   "execution_count": 28,
   "metadata": {},
   "outputs": [],
   "source": [
    "# Actnormの実装\n",
    "class ActNorm2d(nn.Module):\n",
    "    def __init__(self, num_features):\n",
    "        super(Actnorm2d, self).__init__()\n",
    "        size = [1, num_features, 1, 1]\n",
    "        self.register_parameter('bias', nn.Parameter(torch.zeros(*size)))\n",
    "        self.register_parameter('log_s', nn.Parameter(torch.zeros(*size)))\n",
    "        self.inited = False\n",
    "        \n",
    "    def forward(self, x):\n",
    "        if not self.inited:\n",
    "            self.initialize_parameters(x)\n",
    "        \n",
    "        z = (x + self.bias) * torch.exp(self.log_s)\n",
    "        log_det_jacobian = calculate_log_det_jacobian(x)\n",
    "        return z, log_det_jacobian\n",
    "    \n",
    "    def inverse(self, z):\n",
    "        x = z / torch.exp(self.log_s) - self.bias\n",
    "\n",
    "    def calculate_log_det_jacobian(self, x):\n",
    "        h = x.size(2)\n",
    "        w = x.size(3)\n",
    "        return h * w * torch.sum(self.log_s)\n",
    "    \n",
    "    def initialize_parameters(self, first_minibatch_x):\n",
    "        if not self.training:\n",
    "            return\n",
    "        \n",
    "        with torch.no_grad():\n",
    "            bias = -1.0 * multidim_mean(first_minibatch_x.clone(), dim=[0, 2, 3])\n",
    "            var_s = multidim_mean((first_minibatch_x.clone() + bias) ** 2, dim=[0, 2, 3])\n",
    "            log_s = torch.log(1 / (torch.sqrt(var_s) + 1e-6))\n",
    "            self.bias.data.copy_(bias.data)\n",
    "            self.log_s.data.copy_(log_s.data)\n",
    "            self.inited = True\n",
    "            \n",
    "    def multidim_mean(self, tensor, dim):\n",
    "        dim = sorted(dim)\n",
    "        for d in dim:\n",
    "            tensor = tensor.mean(dim=d, keepdim=True)\n",
    "        return tensor"
   ]
  },
  {
   "cell_type": "code",
   "execution_count": 18,
   "metadata": {},
   "outputs": [],
   "source": [
    "# invertible 1x1 convolutionの実装\n",
    "class Invertible1x1Conv2d(nn.Module):\n",
    "    def __init__(self, num_features):\n",
    "        super(Invertible1x1Conv2d, self).__init__()\n",
    "        \n",
    "    def forward(self, x):\n",
    "        1+1\n",
    "    def inverse(self, z):\n",
    "        1+1\n",
    "        \n",
    "    def _calculate_log_det_jacobian(self, x):\n",
    "        1+1\n",
    "        "
   ]
  },
  {
   "cell_type": "code",
   "execution_count": null,
   "metadata": {},
   "outputs": [],
   "source": [
    "# 1x1 invertible convolution　\n",
    "# これLU分解使ってなくね？\n",
    "class Invertible1x1Conv2d(nn.Module):\n",
    "    def __init__(self, c):\n",
    "        super(Invertible1x1Conv, self).__init__()\n",
    "        self.conv = nn.Conv1d(c, c, kernel_size=1, stride=1, padding=0, bias=False)\n",
    "        \n",
    "        # 直交行列から初期値をサンプル\n",
    "        W = torch.qr(torch.FloatTensor(c, c).normal_())[0]\n",
    "        \n",
    "        # ヤコビアンが-1ではなく1であることを保証（偶数の正方行列に対しては−１，奇数なら1になるっぽい？）\n",
    "        if torch.det(W) < 0:\n",
    "            W[:,0] = -W[:,0]\n",
    "        \n",
    "        self.conv.weight.data = W.view(c, c, 1)\n",
    "        \n",
    "    def forward(self, z, reverse=False):\n",
    "        batch_size, group_size, n_of_group = z.size()\n",
    "        \n",
    "        # self.conv.weightのサイズが[height, width, 1]なので調整（下のunsqueeze()も同じ）\n",
    "        W = self.conv.weight.squeeze(2)\n",
    "        \n",
    "        # 推論処理（サンプリング）\n",
    "        if reverse:\n",
    "            # 推論処理なので一回逆行列を計算したら以後やらない\n",
    "            if not hasattr(self, 'w_inverse'):\n",
    "                W_inverse = W.inverse() # 逆行列を計算\n",
    "                W_inverse = torch.autograd.Variable(W_inverse.unsqueeze(2)) # このVariableいる？\n",
    "                self.W_inverse = W_inverse\n",
    "            z = F.conv1d(z, self.W_inverse, bias=None, stride=1, padding=0)\n",
    "            return z\n",
    "        \n",
    "        # 学習のためのforward処理（データ→ガウス分布方向）\n",
    "        else:\n",
    "            # Wは畳込みでバッチサイズ×チャネル内の要素数 回適用されるのでかける（1x1畳み込みのため）\n",
    "            # バッチサイズかけるのマジ？意味分からん\n",
    "            log_det_W = batch_size * n_of_group * torch.logdet(W)\n",
    "            return self.conv(z), log_det_W"
   ]
  },
  {
   "cell_type": "code",
   "execution_count": 20,
   "metadata": {},
   "outputs": [],
   "source": [
    "# coupling layerの実装\n",
    "class CouplingLayer(nn.Module):\n",
    "    def __init__(self, affine=True):\n",
    "        super(CouplingLayer, self).__init__()\n",
    "        \n",
    "    def forward(self, x):\n",
    "        1+1\n",
    "    def inverse(self, z):\n",
    "        1+1\n",
    "        \n",
    "    def _calculate_log_det_jacobian(self, x):\n",
    "        1+1\n"
   ]
  },
  {
   "cell_type": "code",
   "execution_count": 24,
   "metadata": {},
   "outputs": [],
   "source": [
    "# 上３つをまとめたFlow\n",
    "class StepofFlow(nn.Module):\n",
    "    def __init__(self, num_features, affine=True):\n",
    "        super(StepofFlow, self).__init__()\n",
    "\n",
    "    def forward(self, x):\n",
    "        1+1\n",
    "    def inverse(self, z):\n",
    "        1+1"
   ]
  },
  {
   "cell_type": "code",
   "execution_count": null,
   "metadata": {},
   "outputs": [],
   "source": [
    "# Glow本体\n",
    "class Glow(nn.Module):\n",
    "    def __init__(self):\n",
    "        super(Glow, self).__init__()\n",
    "        \n",
    "    def forward(self, x):\n",
    "        1+1\n",
    "    \n",
    "    def inverse(self, z):\n",
    "        1+1"
   ]
  },
  {
   "cell_type": "code",
   "execution_count": 5,
   "metadata": {},
   "outputs": [],
   "source": [
    "# 1x1 invertible convolution　\n",
    "# これLU分解使ってなくね？\n",
    "class Invertible1x1Conv2d(nn.Module):\n",
    "    def __init__(self, c):\n",
    "        super(Invertible1x1Conv, self).__init__()\n",
    "        self.conv = nn.Conv1d(c, c, kernel_size=1, stride=1, padding=0, bias=False)\n",
    "        \n",
    "        # 直交行列から初期値をサンプル\n",
    "        W = torch.qr(torch.FloatTensor(c, c).normal_())[0]\n",
    "        \n",
    "        # ヤコビアンが-1ではなく1であることを保証（偶数の正方行列に対しては−１，奇数なら1になるっぽい？）\n",
    "        if torch.det(W) < 0:\n",
    "            W[:,0] = -W[:,0]\n",
    "        \n",
    "        self.conv.weight.data = W.view(c, c, 1)\n",
    "        \n",
    "    def forward(self, z, reverse=False):\n",
    "        batch_size, group_size, n_of_group = z.size()\n",
    "        \n",
    "        # self.conv.weightのサイズが[height, width, 1]なので調整（下のunsqueeze()も同じ）\n",
    "        W = self.conv.weight.squeeze(2)\n",
    "        \n",
    "        # 推論処理（サンプリング）\n",
    "        if reverse:\n",
    "            # 推論処理なので一回逆行列を計算したら以後やらない\n",
    "            if not hasattr(self, 'w_inverse'):\n",
    "                W_inverse = W.inverse() # 逆行列を計算\n",
    "                W_inverse = torch.autograd.Variable(W_inverse.unsqueeze(2)) # このVariableいる？\n",
    "                self.W_inverse = W_inverse\n",
    "            z = F.conv1d(z, self.W_inverse, bias=None, stride=1, padding=0)\n",
    "            return z\n",
    "        \n",
    "        # 学習のためのforward処理（データ→ガウス分布方向）\n",
    "        else:\n",
    "            # Wは畳込みでバッチサイズ×チャネル内の要素数 回適用されるのでかける（1x1畳み込みのため）\n",
    "            # バッチサイズかけるのマジ？意味分からん\n",
    "            log_det_W = batch_size * n_of_group * torch.logdet(W)\n",
    "            return self.conv(z), log_det_W"
   ]
  },
  {
   "cell_type": "code",
   "execution_count": 6,
   "metadata": {},
   "outputs": [
    {
     "data": {
      "text/plain": [
       "[1, 2, 3, 3]"
      ]
     },
     "execution_count": 6,
     "metadata": {},
     "output_type": "execute_result"
    }
   ],
   "source": [
    "sorted([3,3,2,1])"
   ]
  },
  {
   "cell_type": "code",
   "execution_count": 21,
   "metadata": {},
   "outputs": [
    {
     "ename": "SyntaxError",
     "evalue": "non-default argument follows default argument (<ipython-input-21-7205fe510423>, line 1)",
     "output_type": "error",
     "traceback": [
      "\u001b[0;36m  File \u001b[0;32m\"<ipython-input-21-7205fe510423>\"\u001b[0;36m, line \u001b[0;32m1\u001b[0m\n\u001b[0;31m    def fire(a=1, b):\u001b[0m\n\u001b[0m            ^\u001b[0m\n\u001b[0;31mSyntaxError\u001b[0m\u001b[0;31m:\u001b[0m non-default argument follows default argument\n"
     ]
    }
   ],
   "source": [
    "def fire(a=1, b):\n",
    "    return a+b"
   ]
  },
  {
   "cell_type": "code",
   "execution_count": null,
   "metadata": {},
   "outputs": [],
   "source": []
  }
 ],
 "metadata": {
  "kernelspec": {
   "display_name": "Python 3",
   "language": "python",
   "name": "python3"
  },
  "language_info": {
   "codemirror_mode": {
    "name": "ipython",
    "version": 3
   },
   "file_extension": ".py",
   "mimetype": "text/x-python",
   "name": "python",
   "nbconvert_exporter": "python",
   "pygments_lexer": "ipython3",
   "version": "3.5.2"
  }
 },
 "nbformat": 4,
 "nbformat_minor": 2
}
