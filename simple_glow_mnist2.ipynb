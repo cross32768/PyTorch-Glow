{
 "cells": [
  {
   "cell_type": "code",
   "execution_count": 1,
   "metadata": {},
   "outputs": [
    {
     "name": "stdout",
     "output_type": "stream",
     "text": [
      "PyTorch version: 1.0.0\n",
      "torchvision verseion: 0.2.1\n",
      "Is GPU avaibale: True\n"
     ]
    }
   ],
   "source": [
    "import numpy as np\n",
    "import matplotlib.pyplot as plt\n",
    "\n",
    "import torch\n",
    "from torch import nn, optim\n",
    "from torch.nn import functional as F\n",
    "from torch.utils.data import DataLoader\n",
    "\n",
    "import torchvision\n",
    "from torchvision import datasets, transforms\n",
    "from torchvision.utils import make_grid, save_image\n",
    "\n",
    "print('PyTorch version:', torch.__version__)\n",
    "print('torchvision verseion:', torchvision.__version__)\n",
    "print('Is GPU avaibale:', torch.cuda.is_available())"
   ]
  },
  {
   "cell_type": "code",
   "execution_count": 2,
   "metadata": {},
   "outputs": [],
   "source": [
    "# general settings (バッチサイズとデバイス)\n",
    "batchsize = 128\n",
    "device = torch.device('cuda' if torch.cuda.is_available() else 'cpu')"
   ]
  },
  {
   "cell_type": "code",
   "execution_count": 3,
   "metadata": {},
   "outputs": [
    {
     "name": "stdout",
     "output_type": "stream",
     "text": [
      "the number of training data: 60000\n",
      "the number of validation data: 10000\n"
     ]
    }
   ],
   "source": [
    "# データセットの準備\n",
    "# Tensorにしつつ、 (-1 ~ 1)の範囲に正規化\n",
    "tf = transforms.Compose([transforms.ToTensor(), \n",
    "                         transforms.Normalize((0.5, 0.5, 0.5), (0.5, 0.5, 0.5))])\n",
    "\n",
    "# データセットをロード(今回はMNIST)\n",
    "# 本当はtraining data, validation data, test dataに分けるべきだが、今回は簡便のため2つに分ける.\n",
    "mnist_train = datasets.MNIST(root = '../../data/MNIST',\n",
    "                                 train = True,\n",
    "                                 transform = tf,\n",
    "                                 download = False)\n",
    "mnist_validation = datasets.MNIST(root = '../../data/MNIST',\n",
    "                                      train = False,\n",
    "                                      transform = tf)\n",
    "\n",
    "# データローダーを作成\n",
    "mnist_train_loader = DataLoader(mnist_train, batch_size = batchsize, shuffle = True)\n",
    "mnist_validation_loader = DataLoader(mnist_validation, batch_size = batchsize, shuffle = False)\n",
    "\n",
    "print('the number of training data:', len(mnist_train))\n",
    "print('the number of validation data:', len(mnist_validation))"
   ]
  },
  {
   "cell_type": "code",
   "execution_count": 4,
   "metadata": {},
   "outputs": [
    {
     "name": "stdout",
     "output_type": "stream",
     "text": [
      "torch.Size([1, 28, 28])\n"
     ]
    },
    {
     "data": {
      "image/png": "[encoded data removed]",
      "text/plain": [
       "<matplotlib.figure.Figure at 0x7f2d6d0e9dd8>"
      ]
     },
     "metadata": {
      "needs_background": "light"
     },
     "output_type": "display_data"
    }
   ],
   "source": [
    "# 可視化のための関数\n",
    "def show_image(img):\n",
    "    npimg = img.numpy() * 0.5 + 0.5\n",
    "    plt.figure(figsize = (5, 5))\n",
    "    plt.axis('off')\n",
    "    plt.imshow(np.transpose(npimg, (1, 2, 0)))\n",
    "    \n",
    "images, labels = iter(mnist_train_loader).next()\n",
    "# 25画像をまとめて表示\n",
    "show_image(make_grid(images[:25], nrow=5, padding=1))\n",
    "# 画像の形状（channel, height, width）\n",
    "print(images[0].size())"
   ]
  },
  {
   "cell_type": "code",
   "execution_count": 6,
   "metadata": {},
   "outputs": [],
   "source": [
    "# Actnormの実装\n",
    "class ActNorm2d(nn.Module):\n",
    "    def __init__(self, num_features):\n",
    "        super(ActNorm2d, self).__init__()\n",
    "        size = [1, num_features, 1, 1]\n",
    "        self.register_parameter('bias', nn.Parameter(torch.zeros(*size)))\n",
    "        self.register_parameter('log_s', nn.Parameter(torch.zeros(*size)))\n",
    "        self.inited = False\n",
    "        \n",
    "    def forward(self, x):\n",
    "        if not self.inited:\n",
    "            self.initialize_parameters(x)\n",
    "        \n",
    "        z = (x + self.bias) * torch.exp(self.log_s)\n",
    "        log_det_jacobian = self.calculate_log_det_jacobian(x)\n",
    "        return z, log_det_jacobian\n",
    "    \n",
    "    def inverse(self, z):\n",
    "        x = z / torch.exp(self.log_s) - self.bias\n",
    "        return x\n",
    "\n",
    "    def calculate_log_det_jacobian(self, x):\n",
    "        h, w = x.size(2), x.size(3)\n",
    "        return h * w * torch.sum(self.log_s)\n",
    "    \n",
    "    def initialize_parameters(self, first_minibatch_x):\n",
    "        # cloneいるか？ .detachこれでいい？\n",
    "        bias = -1.0 * self.multidim_mean(first_minibatch_x.clone().detach(), dims=[0, 2, 3])\n",
    "        var_s = self.multidim_mean((first_minibatch_x.clone().detach() + bias) ** 2, dims=[0, 2, 3])\n",
    "        log_s = torch.log(1 / (torch.sqrt(var_s) + 1e-6))\n",
    "        \n",
    "        self.bias.data.copy_(bias.data)\n",
    "        self.log_s.data.copy_(log_s.data)\n",
    "        \n",
    "        self.inited = True\n",
    "            \n",
    "    def multidim_mean(self, tensor, dims):\n",
    "        dims = sorted(dims)\n",
    "        for d in dims:\n",
    "            tensor = tensor.mean(dim=d, keepdim=True)\n",
    "        return tensor"
   ]
  },
  {
   "cell_type": "code",
   "execution_count": 7,
   "metadata": {},
   "outputs": [],
   "source": [
    "# invertible 1x1 convolutionの実装\n",
    "class Invertible1x1Conv2d(nn.Module):\n",
    "    def __init__(self, num_features):\n",
    "        super(Invertible1x1Conv2d, self).__init__()\n",
    "        self.conv = nn.Conv2d(num_features, num_features, kernel_size=1, stride=1, padding=0, bias=False)\n",
    "        \n",
    "        W = torch.qr(torch.FloatTensor(num_features, num_features).normal_())[0]\n",
    "        \n",
    "        if torch.det(W) < 0:\n",
    "            W[:,0] = -W[:,0]\n",
    "        \n",
    "        self.conv.weight.data = W.unsqueeze(2)\n",
    "        \n",
    "    def forward(self, x):\n",
    "        z = self.conv(x)\n",
    "        log_det_jacobian = self.calculate_log_det_jacobian(x)\n",
    "        return z, log_det_jacobian\n",
    "        \n",
    "    def inverse(self, z):\n",
    "        W = self.conv.weight.squeeze()\n",
    "        if not hasattr(self, 'W_inverse'):\n",
    "            W_inverse = W.inverse()\n",
    "            W_inverse = torch.autograd.Variable(W_inverse.unsqueeze(2)) # Variableいるか？\n",
    "            self.W_inverse = W_inverse\n",
    "        x = F.conv2d(z, self.W_inverse, bias=None, stride=1, padding=0)\n",
    "        return x\n",
    "        \n",
    "    def calculate_log_det_jacobian(self, x):\n",
    "        W = self.conv.weight.squeeze()\n",
    "        h, w = x.size(2), x.size(3)\n",
    "        return h * w * torch.logdet(W)"
   ]
  },
  {
   "cell_type": "code",
   "execution_count": 8,
   "metadata": {},
   "outputs": [],
   "source": [
    "# coupling layerで使われるCNN\n",
    "class CNN(nn.Module):\n",
    "    def __init__(self, n_in, n_hidden, n_out):\n",
    "        super(CNN, self).__init__()\n",
    "        self.cv1 = nn.Conv2d(n_in, n_hidden, kernel_size=3, stride=1, padding=1)\n",
    "        self.cv2 = nn.Conv2d(n_hidden, n_hidden, kernel_size=3, stride=1, padding=1)\n",
    "        self.cv3 = nn.Conv2d(n_hidden, n_out, kernel_size=3, stride=1, padding=1)\n",
    "        self.cv3.weight.data.zero_()\n",
    "        self.cv3.bias.data.zero_()\n",
    "        \n",
    "    def forward(self, CNN_input):\n",
    "        out = F.relu(self.cv1(CNN_input))\n",
    "        out = F.relu(self.cv2(out))\n",
    "        out = self.cv3(out)\n",
    "        return out"
   ]
  },
  {
   "cell_type": "code",
   "execution_count": 10,
   "metadata": {},
   "outputs": [],
   "source": [
    "# coupling layerの実装\n",
    "class CouplingLayer(nn.Module):\n",
    "    def __init__(self, num_features, affine=True):\n",
    "        super(CouplingLayer, self).__init__()\n",
    "        \n",
    "        assert(num_features % 2 == 0)\n",
    "        self.n_half = int(num_features / 2)\n",
    "        self.affine = affine\n",
    "        \n",
    "        if self.affine:\n",
    "            self.CNN = CNN(self.n_half, self.n_hideen, self.n_half*2)\n",
    "        else:\n",
    "            self.CNN = CNN(self.n_half, self.n_hidden, self.n_half)\n",
    "            \n",
    "    def forward(self, x):\n",
    "        x_a = x[:,:self.n_half,:,:]\n",
    "        x_b = x[:,self.n_half:,:,:]\n",
    "        \n",
    "        CNN_output = self.CNN(x_a)\n",
    "        \n",
    "        if self.affine:\n",
    "            log_s = CNN_output[:,:self.n_half,:,:]\n",
    "            bias = CNN_output[:,self.n_half:,:,:]\n",
    "            z_b = (x_b + bias) * torch.exp(log_s)\n",
    "        else:\n",
    "            log_s = None\n",
    "            z_b = x_b + CNN_output\n",
    "            \n",
    "        z = torch.cat([x_a, z_b], dim=1)\n",
    "        log_det_jacobian = self.calculate_log_det_jacobian(log_s)\n",
    "        return z, log_det_jacobian\n",
    "        \n",
    "    def inverse(self, z):\n",
    "        z_a = z[:,:self.n_half,:,:]\n",
    "        z_b = z[:,self.n_half:,:,:]\n",
    "        \n",
    "        CNN_output = self.CNN(z_a)\n",
    "        \n",
    "        if self.affine:\n",
    "            log_s = CNN_output[:,:self.n_half,:,:]\n",
    "            bias = CNN_output[:,self.n_half:,:,:]\n",
    "            x_b = z_b / torch.exp(log_s) - bias\n",
    "        else:\n",
    "            x_b = z_b - CNN_output\n",
    "            \n",
    "        x = torch.cat([z_a, x_b], dim=1)\n",
    "        return x\n",
    "        \n",
    "    def calculate_log_det_jacobian(self, log_s):\n",
    "        if self.affine:\n",
    "            return torch.sum(log_s)\n",
    "        else:\n",
    "            return 0.0\n"
   ]
  },
  {
   "cell_type": "code",
   "execution_count": 24,
   "metadata": {},
   "outputs": [],
   "source": [
    "# 上３つをまとめたFlow\n",
    "class StepofFlow(nn.Module):\n",
    "    def __init__(self, num_features, affine=True):\n",
    "        super(StepofFlow, self).__init__()\n",
    "\n",
    "    def forward(self, x):\n",
    "        1+1\n",
    "    def inverse(self, z):\n",
    "        1+1"
   ]
  },
  {
   "cell_type": "code",
   "execution_count": null,
   "metadata": {},
   "outputs": [],
   "source": [
    "# Glow本体\n",
    "class Glow(nn.Module):\n",
    "    def __init__(self):\n",
    "        super(Glow, self).__init__()\n",
    "        \n",
    "    def forward(self, x):\n",
    "        1+1\n",
    "    \n",
    "    def inverse(self, z):\n",
    "        1+1\n",
    "        \n",
    "    def squeeze(self, x):\n",
    "        1+1\n",
    "    def unsqueeze(self, z):\n",
    "        1+1"
   ]
  },
  {
   "cell_type": "code",
   "execution_count": null,
   "metadata": {},
   "outputs": [],
   "source": []
  }
 ],
 "metadata": {
  "kernelspec": {
   "display_name": "Python 3",
   "language": "python",
   "name": "python3"
  },
  "language_info": {
   "codemirror_mode": {
    "name": "ipython",
    "version": 3
   },
   "file_extension": ".py",
   "mimetype": "text/x-python",
   "name": "python",
   "nbconvert_exporter": "python",
   "pygments_lexer": "ipython3",
   "version": "3.5.2"
  }
 },
 "nbformat": 4,
 "nbformat_minor": 2
}
