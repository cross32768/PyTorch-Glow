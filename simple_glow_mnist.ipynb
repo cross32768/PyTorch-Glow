{
 "cells": [
  {
   "cell_type": "code",
   "execution_count": 343,
   "metadata": {},
   "outputs": [
    {
     "name": "stdout",
     "output_type": "stream",
     "text": [
      "PyTorch version: 1.0.0\n",
      "torchvision verseion: 0.2.1\n",
      "Is GPU avaibale: True\n"
     ]
    }
   ],
   "source": [
    "import numpy as np\n",
    "import matplotlib.pyplot as plt\n",
    "\n",
    "import torch\n",
    "from torch import nn, optim\n",
    "from torch.nn import functional as F\n",
    "from torch.utils.data import DataLoader\n",
    "\n",
    "import torchvision\n",
    "from torchvision import datasets, transforms\n",
    "from torchvision.utils import make_grid, save_image\n",
    "\n",
    "print('PyTorch version:', torch.__version__)\n",
    "print('torchvision verseion:', torchvision.__version__)\n",
    "print('Is GPU avaibale:', torch.cuda.is_available())"
   ]
  },
  {
   "cell_type": "code",
   "execution_count": 367,
   "metadata": {},
   "outputs": [],
   "source": [
    "# settings\n",
    "batchsize = 64\n",
    "device = torch.device('cuda' if torch.cuda.is_available() else 'cpu')"
   ]
  },
  {
   "cell_type": "code",
   "execution_count": 368,
   "metadata": {},
   "outputs": [
    {
     "name": "stdout",
     "output_type": "stream",
     "text": [
      "the number of training data 60000\n",
      "the number of validation data 10000\n"
     ]
    }
   ],
   "source": [
    "# データセットの準備\n",
    "# Tensorにしつつ、 (-1 ~ 1)の範囲に正規化\n",
    "tf = transforms.Compose([transforms.ToTensor(), \n",
    "                         transforms.Normalize((0.5, 0.5, 0.5), (0.5, 0.5, 0.5))])\n",
    "\n",
    "# データセットをロード\n",
    "# 本当はtraining data, validation data, test dataに分けるべきだが、今回は簡便のため2つに分ける.\n",
    "mnist_train = datasets.MNIST(root = '../../data/MNIST',\n",
    "                                 train = True,\n",
    "                                 transform = tf,\n",
    "                                 download = False)\n",
    "mnist_validation = datasets.MNIST(root = '../../data/MNIST',\n",
    "                                      train = False,\n",
    "                                      transform = tf)\n",
    "\n",
    "mnist_train_loader = DataLoader(mnist_train, batch_size = batchsize, shuffle = True)\n",
    "mnist_validation_loader = DataLoader(mnist_validation, batch_size = batchsize, shuffle = False)\n",
    "\n",
    "print('the number of training data', len(mnist_train))\n",
    "print('the number of validation data', len(mnist_validation))"
   ]
  },
  {
   "cell_type": "code",
   "execution_count": 369,
   "metadata": {},
   "outputs": [
    {
     "name": "stdout",
     "output_type": "stream",
     "text": [
      "torch.Size([1, 28, 28])\n"
     ]
    },
    {
     "data": {
      "image/png": "[encoded data removed]",
      "text/plain": [
       "<matplotlib.figure.Figure at 0x7fc916fc5828>"
      ]
     },
     "metadata": {
      "needs_background": "light"
     },
     "output_type": "display_data"
    }
   ],
   "source": [
    "def imshow(img):\n",
    "    npimg = img.numpy() * 0.5 + 0.5\n",
    "    plt.figure(figsize = (5, 5))\n",
    "    plt.axis('off')\n",
    "    plt.imshow(np.transpose(npimg, (1, 2, 0)))\n",
    "images, labels = iter(mnist_train_loader).next()\n",
    "imshow(make_grid(images[:25], nrow=5, padding=1))\n",
    "print(images[0].size())"
   ]
  },
  {
   "cell_type": "code",
   "execution_count": 370,
   "metadata": {},
   "outputs": [],
   "source": [
    "# 1x1 invertible convolution　\n",
    "# これLU分解使ってなくね？\n",
    "class Invertible1x1Conv(nn.Module):\n",
    "    def __init__(self, c):\n",
    "        super(Invertible1x1Conv, self).__init__()\n",
    "        self.conv = nn.Conv1d(c, c, kernel_size=1, stride=1, padding=0, bias=False)\n",
    "        \n",
    "        # 直交行列から初期値をサンプル\n",
    "        W = torch.qr(torch.FloatTensor(c, c).normal_())[0]\n",
    "        \n",
    "        # ヤコビアンが-1ではなく1であることを保証（偶数の正方行列に対しては−１，奇数なら1になるっぽい？）\n",
    "        if torch.det(W) < 0:\n",
    "            W[:,0] = -W[:,0]\n",
    "        \n",
    "        self.conv.weight.data = W.view(c, c, 1)\n",
    "        \n",
    "    def forward(self, z, reverse=False):\n",
    "        batch_size, group_size, n_of_group = z.size()\n",
    "        \n",
    "        # self.conv.weightのサイズが[height, width, 1]なので調整（下のunsqueeze()も同じ）\n",
    "        W = self.conv.weight.squeeze(2)\n",
    "        \n",
    "        # 推論処理（サンプリング）\n",
    "        if reverse:\n",
    "            # 推論処理なので一回逆行列を計算したら以後やらない\n",
    "            if not hasattr(self, 'w_inverse'):\n",
    "                W_inverse = W.inverse() # 逆行列を計算\n",
    "                W_inverse = torch.autograd.Variable(W_inverse.unsqueeze(2)) # このVariableいる？\n",
    "                self.W_inverse = W_inverse\n",
    "            z = F.conv1d(z, self.W_inverse, bias=None, stride=1, padding=0)\n",
    "            return z\n",
    "        \n",
    "        # 学習のためのforward処理（データ→ガウス分布方向）\n",
    "        else:\n",
    "            # Wは畳込みでバッチサイズ×チャネル内の要素数 回適用されるのでかける（1x1畳み込みのため）\n",
    "            # バッチサイズかけるのマジ？意味分からん\n",
    "            log_det_W = batch_size * n_of_group * torch.logdet(W)\n",
    "            return self.conv(z), log_det_W"
   ]
  },
  {
   "cell_type": "code",
   "execution_count": 371,
   "metadata": {},
   "outputs": [],
   "source": [
    "# 非線形変換に用いられるニューラルネットワーク、WaveGlowならここがnon-causal WaveNet\n",
    "class NN(nn.Module):\n",
    "    def __init__(self, n_in_channels, n_h_channels, n_out_channels):\n",
    "        super(NN, self).__init__()\n",
    "        self.cv1 = nn.Conv1d(n_in_channels, n_h_channels, kernel_size=3, stride=1, padding=1)\n",
    "        self.bn1 = nn.BatchNorm1d(n_h_channels)\n",
    "        self.cv2 = nn.Conv1d(n_h_channels, n_h_channels, kernel_size=3, stride=1, padding=1)\n",
    "        self.bn2 = nn.BatchNorm1d(n_h_channels)\n",
    "        self.cv3 = nn.Conv1d(n_h_channels, n_out_channels, kernel_size=3, stride=1, padding=1)\n",
    "        self.cv3.weight.data.zero_()\n",
    "        self.cv3.bias.data.zero_()\n",
    "        \n",
    "    def forward(self, forward_input):\n",
    "        out = F.relu(self.bn1(self.cv1(forward_input)))\n",
    "        out = F.relu(self.bn2(self.cv2(out)))\n",
    "        return self.cv3(out)"
   ]
  },
  {
   "cell_type": "code",
   "execution_count": 372,
   "metadata": {},
   "outputs": [],
   "source": [
    "# Glow本体\n",
    "class Glow(nn.Module):\n",
    "    def __init__(self, n_flows, n_group, n_early_every, n_early_size, affine=True):\n",
    "        super(Glow, self).__init__()\n",
    "        \n",
    "        assert(n_group % 2 == 0)\n",
    "        self.n_flows = n_flows\n",
    "        self.n_group = n_group\n",
    "        self.n_of_group = None\n",
    "        self.n_early_every = n_early_every\n",
    "        self.n_early_size = n_early_size\n",
    "        self.n_h_channels = 32\n",
    "        self.affine = affine\n",
    "        \n",
    "        self.NN = torch.nn.ModuleList()\n",
    "        self.convinv = torch.nn.ModuleList()\n",
    "        # 未実装　WaveGlowの実装では使われてない（恐らくWaveNet内にWeight Normがあるため）が、Glowの原論文ではactnormが用いられている\n",
    "        # self.actnorm = torch.nn.ModuleList() \n",
    "        \n",
    "        n_half = int(n_group/2)\n",
    "        \n",
    "        n_remaining_channels = n_group\n",
    "        \n",
    "        for k in range(n_flows):\n",
    "            if k % self.n_early_every == 0 and k > 0:\n",
    "                n_half = n_half - int(self.n_early_size/2)\n",
    "                n_remaining_channels = n_remaining_channels - self.n_early_size\n",
    "                \n",
    "            self.convinv.append(Invertible1x1Conv(n_remaining_channels))\n",
    "            \n",
    "            # affine coupling\n",
    "            if self.affine:\n",
    "                self.NN.append(NN(n_half, self.n_h_channels, 2*n_half))\n",
    "            # additive coupling\n",
    "            else:\n",
    "                self.NN.append(NN(n_half, self.n_h_channels, n_half))\n",
    "                \n",
    "        self.n_remaining_channels = n_remaining_channels\n",
    "        \n",
    "    # forward処理だが、これはデータの分布からガウス分布への写像を表す\n",
    "    def forward(self, forward_input):\n",
    "        assert(forward_input.size(1) % self.n_group == 0)\n",
    "        self.n_of_group = int(forward_input.size(1) / self.n_group) # グループごとの点数\n",
    "        \n",
    "        image = forward_input.unfold(1, self.n_group, self.n_group).permute(0, 2, 1)\n",
    "        output_image = []\n",
    "        log_s_list = []\n",
    "        log_det_W_list = []\n",
    "        \n",
    "        for k in range(self.n_flows):\n",
    "            if k % self.n_early_every == 0 and k > 0:\n",
    "                output_image.append(image[:,:self.n_early_size,:])\n",
    "                image = image[:,self.n_early_size:,:]\n",
    "                \n",
    "            image, log_det_W = self.convinv[k](image)\n",
    "            log_det_W_list.append(log_det_W)\n",
    "            \n",
    "            n_half = int(image.size(1)/2)\n",
    "            image_0 = image[:,:n_half,:]\n",
    "            image_1 = image[:,n_half:,:]\n",
    "            \n",
    "            output = self.NN[k](image_0)\n",
    "            if self.affine:\n",
    "                log_s = output[:,:n_half,:]\n",
    "                b = output[:,n_half:,:]\n",
    "                image_1 = torch.exp(log_s)*image_1 + b\n",
    "                log_s_list.append(log_s)\n",
    "            else:\n",
    "                # b = output\n",
    "                image_1 = image_1 + output\n",
    "                log_s_list.append(0)\n",
    "                \n",
    "            image = torch.cat([image_0, image_1], dim=1)\n",
    "            \n",
    "        output_image.append(image)\n",
    "        return torch.cat(output_image,dim=1), log_s_list, log_det_W_list\n",
    "        \n",
    "    # ガウス分布からデータへの写像、つまりサンプリング\n",
    "    def infer(self, n_sample, sigma=1.0):\n",
    "        assert(self.n_of_group is not None)\n",
    "        image = torch.cuda.FloatTensor(n_sample, self.n_remaining_channels, self.n_of_group).normal_()\n",
    "        image = torch.autograd.Variable(sigma*image) # このVariableいる？\n",
    "        \n",
    "        for k in reversed(range(self.n_flows)):\n",
    "            n_half = int(image.size(1)/2)\n",
    "            image_0 = image[:,:n_half,:]\n",
    "            image_1 = image[:,n_half:,:]\n",
    "            \n",
    "            output = self.NN[k](image_0)\n",
    "            if self.affine:\n",
    "                log_s = output[:,:n_half,:]\n",
    "                b = output[:,:n_half,:]\n",
    "                image_1 = (image_1 - b) / torch.exp(log_s)\n",
    "            else:\n",
    "                # b = output\n",
    "                image_1 = image_1 - output\n",
    "            \n",
    "            image = torch.cat([image_0, image_1], dim=1)\n",
    "            \n",
    "            image = self.convinv[k](image, reverse=True)\n",
    "            \n",
    "            if k % self.n_early_every == 0 and k > 0:\n",
    "                z = torch.cuda.FloatTensor(n_sample, self.n_early_size, self.n_of_group).normal_()\n",
    "                image = torch.cat([sigma*z, image], dim=1)\n",
    "        \n",
    "        image = image.permute(0,2,1).contiguous().view(n_sample, -1).data\n",
    "        return image"
   ]
  },
  {
   "cell_type": "code",
   "execution_count": 373,
   "metadata": {},
   "outputs": [],
   "source": [
    "# Glowのためのロス \n",
    "def GlowLoss(glow_output, sigma=1.0):\n",
    "    z, log_s_list, log_det_W_list = glow_output\n",
    "    for i, log_s in enumerate(log_s_list):\n",
    "        if i == 0:\n",
    "            log_s_total = torch.sum(log_s)\n",
    "            log_det_W_total = log_det_W_list[i]\n",
    "        else:\n",
    "            log_s_total += torch.sum(log_s)\n",
    "            log_det_W_total += log_det_W_list[i]\n",
    "            \n",
    "    # このロスもよくわからない\n",
    "    # 第一項はNLLだと思うが・・・\n",
    "    # 第二項以降、これだと勾配を追跡し続けている気がするのでこいつらを最小化するために学習が動かされてしまうのでは？それであってる？\n",
    "    loss = torch.sum(z*z)/(2*sigma*sigma) - log_s_total - log_det_W_total\n",
    "    # この正規化はよくわからない（z.size(0)はbatchsize, z.size(1)はn_group, z.size(2)はn_of_group）\n",
    "    return loss/(z.size(0)*z.size(1)*z.size(2))"
   ]
  },
  {
   "cell_type": "code",
   "execution_count": 1,
   "metadata": {},
   "outputs": [
    {
     "ename": "NameError",
     "evalue": "name 'Glow' is not defined",
     "output_type": "error",
     "traceback": [
      "\u001b[0;31m---------------------------------------------------------------------------\u001b[0m",
      "\u001b[0;31mNameError\u001b[0m                                 Traceback (most recent call last)",
      "\u001b[0;32m<ipython-input-1-8c465fc5860b>\u001b[0m in \u001b[0;36m<module>\u001b[0;34m()\u001b[0m\n\u001b[0;32m----> 1\u001b[0;31m \u001b[0mnet\u001b[0m \u001b[0;34m=\u001b[0m \u001b[0mGlow\u001b[0m\u001b[0;34m(\u001b[0m\u001b[0;36m6\u001b[0m\u001b[0;34m,\u001b[0m \u001b[0;36m8\u001b[0m\u001b[0;34m,\u001b[0m \u001b[0;36m2\u001b[0m\u001b[0;34m,\u001b[0m \u001b[0;36m2\u001b[0m\u001b[0;34m)\u001b[0m\u001b[0;34m\u001b[0m\u001b[0m\n\u001b[0m\u001b[1;32m      2\u001b[0m \u001b[0mnet\u001b[0m \u001b[0;34m=\u001b[0m \u001b[0mnet\u001b[0m\u001b[0;34m.\u001b[0m\u001b[0mto\u001b[0m\u001b[0;34m(\u001b[0m\u001b[0mdevice\u001b[0m\u001b[0;34m)\u001b[0m\u001b[0;34m\u001b[0m\u001b[0m\n\u001b[1;32m      3\u001b[0m \u001b[0;34m\u001b[0m\u001b[0m\n\u001b[1;32m      4\u001b[0m \u001b[0mlearning_rate\u001b[0m \u001b[0;34m=\u001b[0m \u001b[0;36m0.0001\u001b[0m\u001b[0;34m\u001b[0m\u001b[0m\n\u001b[1;32m      5\u001b[0m \u001b[0moptimizer\u001b[0m \u001b[0;34m=\u001b[0m \u001b[0moptim\u001b[0m\u001b[0;34m.\u001b[0m\u001b[0mAdam\u001b[0m\u001b[0;34m(\u001b[0m\u001b[0;34m[\u001b[0m\u001b[0mp\u001b[0m \u001b[0;32mfor\u001b[0m \u001b[0mp\u001b[0m \u001b[0;32min\u001b[0m \u001b[0mnet\u001b[0m\u001b[0;34m.\u001b[0m\u001b[0mparameters\u001b[0m\u001b[0;34m(\u001b[0m\u001b[0;34m)\u001b[0m \u001b[0;32mif\u001b[0m \u001b[0mp\u001b[0m\u001b[0;34m.\u001b[0m\u001b[0mrequires_grad\u001b[0m\u001b[0;34m==\u001b[0m\u001b[0;32mTrue\u001b[0m\u001b[0;34m]\u001b[0m\u001b[0;34m,\u001b[0m \u001b[0mlr\u001b[0m\u001b[0;34m=\u001b[0m\u001b[0;36m1e-4\u001b[0m\u001b[0;34m)\u001b[0m\u001b[0;34m\u001b[0m\u001b[0m\n",
      "\u001b[0;31mNameError\u001b[0m: name 'Glow' is not defined"
     ]
    }
   ],
   "source": [
    "net = Glow(6, 8, 2, 2)\n",
    "net = net.to(device)\n",
    "\n",
    "learning_rate = 0.0001\n",
    "optimizer = torch.optim.Adam([p for p in net.parameters() if p.requires_grad==True], lr=1e-4)\n",
    "# optimizer = optim.Adam(net.parameters(), lr = learning_rate)\n",
    "\n",
    "num_trainable_params = sum(p.numel() for p in net.parameters() if p.requires_grad)\n",
    "print('The number of parameters:', num_trainable_params)"
   ]
  },
  {
   "cell_type": "code",
   "execution_count": 375,
   "metadata": {},
   "outputs": [],
   "source": [
    "def train(train_loader):\n",
    "    net.train()\n",
    "    running_loss = 0\n",
    "    \n",
    "    for inputs, _ in train_loader:\n",
    "        inputs = inputs.to(device)\n",
    "        inputs = inputs.view(inputs.size(0), -1)\n",
    "        \n",
    "        glow_output = net(inputs)\n",
    "        loss = GlowLoss(glow_output)\n",
    "        \n",
    "        optimizer.zero_grad()\n",
    "        loss.backward()\n",
    "        optimizer.step()\n",
    "        \n",
    "        running_loss += loss.item()\n",
    "        \n",
    "    train_loss = running_loss / len(train_loader)\n",
    "    \n",
    "    return train_loss"
   ]
  },
  {
   "cell_type": "code",
   "execution_count": 376,
   "metadata": {},
   "outputs": [],
   "source": [
    "def validation(validation_loader, epoch):\n",
    "    net.eval()\n",
    "    running_loss = 0\n",
    "    n_sample = 25\n",
    "    sigma = 1.0\n",
    "    sample_every = 1\n",
    "    output_dir = '../../data/glow_MNIST'\n",
    "    \n",
    "    with torch.no_grad():\n",
    "        for inputs, _ in validation_loader:\n",
    "            inputs = inputs.to(device)\n",
    "            inputs = inputs.view(inputs.size(0), -1)\n",
    "  \n",
    "            glow_output = net(inputs)\n",
    "            loss = GlowLoss(glow_output)\n",
    "            \n",
    "            running_loss += loss.item()\n",
    "            \n",
    "    validation_loss = running_loss / len(validation_loader)\n",
    "    \n",
    "    if epoch % sample_every == 0:\n",
    "        sampled_images = net.infer(n_sample, sigma)\n",
    "        sampled_images = sampled_images.view(n_sample, 1, 28, 28)\n",
    "        save_image(sampled_images.data.cpu(), '{}/{}.png'.format(output_dir, epoch), nrow=5, padding=1)\n",
    "    \n",
    "    return validation_loss"
   ]
  },
  {
   "cell_type": "code",
   "execution_count": 377,
   "metadata": {
    "scrolled": true
   },
   "outputs": [
    {
     "name": "stdout",
     "output_type": "stream",
     "text": [
      "epoch[1/100] train_loss:-0.8144 validation_loss:-1.2840\n",
      "epoch[2/100] train_loss:-1.3876 validation_loss:-1.5184\n",
      "epoch[3/100] train_loss:-1.5039 validation_loss:-1.6123\n",
      "epoch[4/100] train_loss:-1.6580 validation_loss:-1.7515\n",
      "epoch[5/100] train_loss:-1.6663 validation_loss:-1.5895\n",
      "epoch[6/100] train_loss:-1.7652 validation_loss:-1.8019\n",
      "epoch[7/100] train_loss:-1.8679 validation_loss:-1.9204\n",
      "epoch[8/100] train_loss:-1.8810 validation_loss:-1.9008\n",
      "epoch[9/100] train_loss:-1.9538 validation_loss:-1.9920\n",
      "epoch[10/100] train_loss:-1.9780 validation_loss:-2.0349\n",
      "epoch[11/100] train_loss:-1.8718 validation_loss:-2.0906\n",
      "epoch[12/100] train_loss:-2.0547 validation_loss:-2.1018\n",
      "epoch[13/100] train_loss:-2.0544 validation_loss:-2.1205\n",
      "epoch[14/100] train_loss:-2.1238 validation_loss:-2.2014\n",
      "epoch[15/100] train_loss:-2.1611 validation_loss:-2.2306\n",
      "epoch[16/100] train_loss:-2.1776 validation_loss:-2.2051\n",
      "epoch[17/100] train_loss:-2.2158 validation_loss:-2.2884\n",
      "epoch[18/100] train_loss:-1.8149 validation_loss:-2.0549\n",
      "epoch[19/100] train_loss:-2.1339 validation_loss:-2.2033\n",
      "epoch[20/100] train_loss:-2.2310 validation_loss:-2.3088\n",
      "epoch[21/100] train_loss:-2.2815 validation_loss:-2.3304\n",
      "epoch[22/100] train_loss:-2.3007 validation_loss:-2.3391\n",
      "epoch[23/100] train_loss:-2.3145 validation_loss:-2.2132\n",
      "epoch[24/100] train_loss:-2.3664 validation_loss:-2.3532\n",
      "epoch[25/100] train_loss:-2.3719 validation_loss:-2.4273\n",
      "epoch[26/100] train_loss:-2.3893 validation_loss:-2.4773\n"
     ]
    },
    {
     "ename": "KeyboardInterrupt",
     "evalue": "",
     "output_type": "error",
     "traceback": [
      "\u001b[0;31m---------------------------------------------------------------------------\u001b[0m",
      "\u001b[0;31mKeyboardInterrupt\u001b[0m                         Traceback (most recent call last)",
      "\u001b[0;32m<ipython-input-377-071405e61dad>\u001b[0m in \u001b[0;36m<module>\u001b[0;34m()\u001b[0m\n\u001b[1;32m      4\u001b[0m \u001b[0mn_epochs\u001b[0m \u001b[0;34m=\u001b[0m \u001b[0;36m100\u001b[0m\u001b[0;34m\u001b[0m\u001b[0m\n\u001b[1;32m      5\u001b[0m \u001b[0;32mfor\u001b[0m \u001b[0mepoch\u001b[0m \u001b[0;32min\u001b[0m \u001b[0mrange\u001b[0m\u001b[0;34m(\u001b[0m\u001b[0mn_epochs\u001b[0m\u001b[0;34m)\u001b[0m\u001b[0;34m:\u001b[0m\u001b[0;34m\u001b[0m\u001b[0m\n\u001b[0;32m----> 6\u001b[0;31m     \u001b[0mtrain_loss\u001b[0m \u001b[0;34m=\u001b[0m \u001b[0mtrain\u001b[0m\u001b[0;34m(\u001b[0m\u001b[0mmnist_train_loader\u001b[0m\u001b[0;34m)\u001b[0m\u001b[0;34m\u001b[0m\u001b[0m\n\u001b[0m\u001b[1;32m      7\u001b[0m     \u001b[0mvalidation_loss\u001b[0m \u001b[0;34m=\u001b[0m \u001b[0mvalidation\u001b[0m\u001b[0;34m(\u001b[0m\u001b[0mmnist_validation_loader\u001b[0m\u001b[0;34m,\u001b[0m \u001b[0mepoch\u001b[0m\u001b[0;34m)\u001b[0m\u001b[0;34m\u001b[0m\u001b[0m\n\u001b[1;32m      8\u001b[0m \u001b[0;34m\u001b[0m\u001b[0m\n",
      "\u001b[0;32m<ipython-input-375-8580ec4b11b9>\u001b[0m in \u001b[0;36mtrain\u001b[0;34m(train_loader)\u001b[0m\n\u001b[1;32m     11\u001b[0m \u001b[0;34m\u001b[0m\u001b[0m\n\u001b[1;32m     12\u001b[0m         \u001b[0moptimizer\u001b[0m\u001b[0;34m.\u001b[0m\u001b[0mzero_grad\u001b[0m\u001b[0;34m(\u001b[0m\u001b[0;34m)\u001b[0m\u001b[0;34m\u001b[0m\u001b[0m\n\u001b[0;32m---> 13\u001b[0;31m         \u001b[0mloss\u001b[0m\u001b[0;34m.\u001b[0m\u001b[0mbackward\u001b[0m\u001b[0;34m(\u001b[0m\u001b[0;34m)\u001b[0m\u001b[0;34m\u001b[0m\u001b[0m\n\u001b[0m\u001b[1;32m     14\u001b[0m         \u001b[0moptimizer\u001b[0m\u001b[0;34m.\u001b[0m\u001b[0mstep\u001b[0m\u001b[0;34m(\u001b[0m\u001b[0;34m)\u001b[0m\u001b[0;34m\u001b[0m\u001b[0m\n\u001b[1;32m     15\u001b[0m \u001b[0;34m\u001b[0m\u001b[0m\n",
      "\u001b[0;32m~/.local/lib/python3.5/site-packages/torch/tensor.py\u001b[0m in \u001b[0;36mbackward\u001b[0;34m(self, gradient, retain_graph, create_graph)\u001b[0m\n\u001b[1;32m    100\u001b[0m                 \u001b[0mproducts\u001b[0m\u001b[0;34m.\u001b[0m \u001b[0mDefaults\u001b[0m \u001b[0mto\u001b[0m\u001b[0;31m \u001b[0m\u001b[0;31m`\u001b[0m\u001b[0;31m`\u001b[0m\u001b[0;32mFalse\u001b[0m\u001b[0;31m`\u001b[0m\u001b[0;31m`\u001b[0m\u001b[0;34m.\u001b[0m\u001b[0;34m\u001b[0m\u001b[0m\n\u001b[1;32m    101\u001b[0m         \"\"\"\n\u001b[0;32m--> 102\u001b[0;31m         \u001b[0mtorch\u001b[0m\u001b[0;34m.\u001b[0m\u001b[0mautograd\u001b[0m\u001b[0;34m.\u001b[0m\u001b[0mbackward\u001b[0m\u001b[0;34m(\u001b[0m\u001b[0mself\u001b[0m\u001b[0;34m,\u001b[0m \u001b[0mgradient\u001b[0m\u001b[0;34m,\u001b[0m \u001b[0mretain_graph\u001b[0m\u001b[0;34m,\u001b[0m \u001b[0mcreate_graph\u001b[0m\u001b[0;34m)\u001b[0m\u001b[0;34m\u001b[0m\u001b[0m\n\u001b[0m\u001b[1;32m    103\u001b[0m \u001b[0;34m\u001b[0m\u001b[0m\n\u001b[1;32m    104\u001b[0m     \u001b[0;32mdef\u001b[0m \u001b[0mregister_hook\u001b[0m\u001b[0;34m(\u001b[0m\u001b[0mself\u001b[0m\u001b[0;34m,\u001b[0m \u001b[0mhook\u001b[0m\u001b[0;34m)\u001b[0m\u001b[0;34m:\u001b[0m\u001b[0;34m\u001b[0m\u001b[0m\n",
      "\u001b[0;32m~/.local/lib/python3.5/site-packages/torch/autograd/__init__.py\u001b[0m in \u001b[0;36mbackward\u001b[0;34m(tensors, grad_tensors, retain_graph, create_graph, grad_variables)\u001b[0m\n\u001b[1;32m     88\u001b[0m     Variable._execution_engine.run_backward(\n\u001b[1;32m     89\u001b[0m         \u001b[0mtensors\u001b[0m\u001b[0;34m,\u001b[0m \u001b[0mgrad_tensors\u001b[0m\u001b[0;34m,\u001b[0m \u001b[0mretain_graph\u001b[0m\u001b[0;34m,\u001b[0m \u001b[0mcreate_graph\u001b[0m\u001b[0;34m,\u001b[0m\u001b[0;34m\u001b[0m\u001b[0m\n\u001b[0;32m---> 90\u001b[0;31m         allow_unreachable=True)  # allow_unreachable flag\n\u001b[0m\u001b[1;32m     91\u001b[0m \u001b[0;34m\u001b[0m\u001b[0m\n\u001b[1;32m     92\u001b[0m \u001b[0;34m\u001b[0m\u001b[0m\n",
      "\u001b[0;31mKeyboardInterrupt\u001b[0m: "
     ]
    }
   ],
   "source": [
    "train_loss_list = []\n",
    "validation_loss_list = []\n",
    "\n",
    "n_epochs = 100\n",
    "for epoch in range(n_epochs):\n",
    "    train_loss = train(mnist_train_loader)\n",
    "    validation_loss = validation(mnist_validation_loader, epoch)\n",
    "    \n",
    "    train_loss_list.append(train_loss)\n",
    "    validation_loss_list.append(validation_loss)\n",
    "    \n",
    "    print('epoch[%d/%d] train_loss:%1.4f validation_loss:%1.4f' % (epoch+1, n_epochs, train_loss, validation_loss) )"
   ]
  },
  {
   "cell_type": "code",
   "execution_count": null,
   "metadata": {},
   "outputs": [],
   "source": []
  }
 ],
 "metadata": {
  "kernelspec": {
   "display_name": "Python 3",
   "language": "python",
   "name": "python3"
  },
  "language_info": {
   "codemirror_mode": {
    "name": "ipython",
    "version": 3
   },
   "file_extension": ".py",
   "mimetype": "text/x-python",
   "name": "python",
   "nbconvert_exporter": "python",
   "pygments_lexer": "ipython3",
   "version": "3.5.2"
  }
 },
 "nbformat": 4,
 "nbformat_minor": 2
}
