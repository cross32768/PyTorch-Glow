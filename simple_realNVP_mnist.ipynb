{
 "cells": [
  {
   "cell_type": "code",
   "execution_count": 1,
   "metadata": {},
   "outputs": [
    {
     "name": "stdout",
     "output_type": "stream",
     "text": [
      "PyTorch version: 0.4.1\n",
      "torchvision verseion: 0.2.1\n",
      "Is GPU avaibale: False\n"
     ]
    }
   ],
   "source": [
    "import numpy as np\n",
    "import matplotlib.pyplot as plt\n",
    "\n",
    "import torch\n",
    "from torch import nn, optim\n",
    "from torch.nn import functional as F\n",
    "from torch.utils.data import DataLoader\n",
    "\n",
    "import torchvision\n",
    "from torchvision import datasets, transforms\n",
    "from torchvision.utils import make_grid\n",
    "\n",
    "print('PyTorch version:', torch.__version__)\n",
    "print('torchvision verseion:', torchvision.__version__)\n",
    "print('Is GPU avaibale:', torch.cuda.is_available())"
   ]
  },
  {
   "cell_type": "code",
   "execution_count": 2,
   "metadata": {},
   "outputs": [],
   "source": [
    "# ハイパーパラメータ等（エポック数、バッチサイズ、学習率、デバイス）\n",
    "batchsize = 128\n",
    "learning_rate = 0.0005\n",
    "device = torch.device('cuda' if torch.cuda.is_available() else 'cpu')"
   ]
  },
  {
   "cell_type": "code",
   "execution_count": 5,
   "metadata": {},
   "outputs": [
    {
     "name": "stdout",
     "output_type": "stream",
     "text": [
      "the number of training data 60000\n",
      "the number of validation data 10000\n"
     ]
    }
   ],
   "source": [
    "# データセットの準備\n",
    "# Tensorにしつつ、 (-1 ~ 1)の範囲に正規化\n",
    "tf = transforms.Compose([transforms.ToTensor(), \n",
    "                         transforms.Normalize((0.5, 0.5, 0.5), (0.5, 0.5, 0.5))])\n",
    "\n",
    "# データセットをロード\n",
    "# 本当はtraining data, validation data, test dataに分けるべきだが、今回は簡便のため2つに分ける.\n",
    "mnist_train = datasets.MNIST(root = '../data',\n",
    "                                 train = True,\n",
    "                                 transform = tf,\n",
    "                                 download = True)\n",
    "mnist_validation = datasets.MNIST(root = '../data',\n",
    "                                      train = False,\n",
    "                                      transform = tf)\n",
    "\n",
    "mnist_train_loader = DataLoader(mnist_train, batch_size = batchsize, shuffle = True)\n",
    "mnist_validation_loader = DataLoader(mnist_validation, batch_size = batchsize, shuffle = True)\n",
    "\n",
    "print('the number of training data', len(mnist_train))\n",
    "print('the number of validation data', len(mnist_validation))"
   ]
  },
  {
   "cell_type": "code",
   "execution_count": 15,
   "metadata": {},
   "outputs": [
    {
     "name": "stdout",
     "output_type": "stream",
     "text": [
      "torch.Size([1, 28, 28])\n"
     ]
    },
    {
     "data": {
      "image/png": "[encoded data removed]",
      "text/plain": [
       "<matplotlib.figure.Figure at 0x20deb111cf8>"
      ]
     },
     "metadata": {
      "needs_background": "light"
     },
     "output_type": "display_data"
    }
   ],
   "source": [
    "def imshow(img):\n",
    "    npimg = img.numpy() * 0.5 + 0.5\n",
    "    plt.figure(figsize = (5, 5))\n",
    "    plt.axis('off')\n",
    "    plt.imshow(np.transpose(npimg, (1, 2, 0)))\n",
    "images, labels = iter(mnist_train_loader).next()\n",
    "imshow(make_grid(images[:25], nrow=5, padding=1))\n",
    "print(images[0].size())"
   ]
  },
  {
   "cell_type": "code",
   "execution_count": 97,
   "metadata": {},
   "outputs": [],
   "source": [
    "class AffineCouplingLayer(nn.Module):\n",
    "    def __init__(self):\n",
    "        super(AffineCouplingLayer, self).__init__()\n",
    "        self.fc1 = nn.Linear(392, 500)\n",
    "        self.bn1 = nn.BatchNorm1d(500)\n",
    "        self.fc2 = nn.Linear(500, 500)\n",
    "        self.bn2 = nn.BatchNorm1d(500)\n",
    "        self.fc3_s = nn.Linear(500, 392)\n",
    "        self.fc3_t = nn.Linear(500, 392)\n",
    "                \n",
    "    def forward(self, x):\n",
    "        x_a = x[:, :392]\n",
    "        x_b = x[:, 392:]\n",
    "        \n",
    "        s, t = self._get_s_and_t(x_a)\n",
    "        y_b = x_b * s.exp() + t\n",
    "        y = torch.cat([x_a, y_b], dim=1)\n",
    "        \n",
    "        return y\n",
    "    \n",
    "    def inverse(self, y):\n",
    "        y_a = y[:, :392]\n",
    "        y_b = y[:, 392:]\n",
    "        \n",
    "        s, t = self._get_s_and_t(y_a)\n",
    "        x_b = (y_b - t) / s.exp()\n",
    "        x = torch.cat([y_a, x_b], dim=1)\n",
    "        \n",
    "        log_det_jacobian = torch.sum(s).detach().item()\n",
    "        \n",
    "        return x, log_det_jacobian\n",
    "        \n",
    "    def _get_s_and_t(self, x_a):\n",
    "        fc1_out = self.fc1(x_a)\n",
    "        fc1_out = self.bn1(fc1_out)\n",
    "        fc1_out = F.relu(fc1_out)\n",
    "        \n",
    "        fc2_out = self.fc2(fc1_out)\n",
    "        fc2_out = self.bn2(fc2_out)\n",
    "        fc2_out = F.relu(fc2_out)\n",
    "        \n",
    "        s = self.fc3_s(fc2_out)\n",
    "        t = self.fc3_t(fc2_out)\n",
    "        \n",
    "        return s,t"
   ]
  },
  {
   "cell_type": "code",
   "execution_count": 141,
   "metadata": {},
   "outputs": [],
   "source": [
    "class RealNVP(nn.Module):\n",
    "    def __init__(self):\n",
    "        super(RealNVP, self).__init__()\n",
    "        self.affine1 = AffineCouplingLayer()\n",
    "        self.affine2 = AffineCouplingLayer()\n",
    "        self.affine3 = AffineCouplingLayer()\n",
    "        self.affine4 = AffineCouplingLayer()\n",
    "        \n",
    "    def forward(self, z):\n",
    "        x = self.affine1.forward(z)\n",
    "        x = self._reverse(x)\n",
    "        \n",
    "        x = self.affine2.forward(x)\n",
    "        x = self._reverse(x)\n",
    "        \n",
    "        x = self.affine3.forward(x)\n",
    "        x = self._reverse(x)\n",
    "        \n",
    "        x = self.affine4.forward(x)\n",
    "        \n",
    "        return x\n",
    "    \n",
    "    def inverse(self, x):\n",
    "        log_det_jacobian = 0\n",
    "        \n",
    "        z, temp_log_det_jacobian = self.affine4.inverse(x)\n",
    "        log_det_jacobian += temp_log_det_jacobian\n",
    "        z = self._reverse(z)\n",
    "        \n",
    "        z, temp_log_det_jacobian = self.affine3.inverse(z)\n",
    "        log_det_jacobian += temp_log_det_jacobian\n",
    "        z = self._reverse(z)\n",
    "        \n",
    "        z, temp_log_det_jacobian = self.affine2.inverse(z)\n",
    "        log_det_jacobian += temp_log_det_jacobian\n",
    "        z = self._reverse(z)\n",
    "        \n",
    "        z, temp_log_det_jacobian = self.affine1.inverse(z)\n",
    "        log_det_jacobian += temp_log_det_jacobian\n",
    "        \n",
    "        return z, log_det_jacobian\n",
    "        \n",
    "    def _reverse(self, x):\n",
    "        return x.flip(1)"
   ]
  },
  {
   "cell_type": "code",
   "execution_count": 142,
   "metadata": {},
   "outputs": [],
   "source": [
    "net = RealNVP()\n",
    "net = net.to(device)\n",
    "\n",
    "def "
   ]
  },
  {
   "cell_type": "code",
   "execution_count": 143,
   "metadata": {},
   "outputs": [],
   "source": [
    "image  =  images[:3]"
   ]
  },
  {
   "cell_type": "code",
   "execution_count": 149,
   "metadata": {},
   "outputs": [],
   "source": [
    "a, b = net.inverse(image.view(3, -1))"
   ]
  },
  {
   "cell_type": "code",
   "execution_count": 150,
   "metadata": {},
   "outputs": [
    {
     "data": {
      "text/plain": [
       "torch.Size([3, 784])"
      ]
     },
     "execution_count": 150,
     "metadata": {},
     "output_type": "execute_result"
    }
   ],
   "source": [
    "a.size()"
   ]
  },
  {
   "cell_type": "code",
   "execution_count": 151,
   "metadata": {},
   "outputs": [
    {
     "data": {
      "text/plain": [
       "19.15713596343994"
      ]
     },
     "execution_count": 151,
     "metadata": {},
     "output_type": "execute_result"
    }
   ],
   "source": [
    "b"
   ]
  },
  {
   "cell_type": "code",
   "execution_count": 120,
   "metadata": {},
   "outputs": [],
   "source": [
    "a = reversed(np.array([3,3,3,5]))"
   ]
  },
  {
   "cell_type": "code",
   "execution_count": 121,
   "metadata": {},
   "outputs": [
    {
     "data": {
      "text/plain": [
       "<reversed at 0x20deb005da0>"
      ]
     },
     "execution_count": 121,
     "metadata": {},
     "output_type": "execute_result"
    }
   ],
   "source": [
    "a"
   ]
  },
  {
   "cell_type": "code",
   "execution_count": null,
   "metadata": {},
   "outputs": [],
   "source": []
  }
 ],
 "metadata": {
  "kernelspec": {
   "display_name": "Python 3",
   "language": "python",
   "name": "python3"
  },
  "language_info": {
   "codemirror_mode": {
    "name": "ipython",
    "version": 3
   },
   "file_extension": ".py",
   "mimetype": "text/x-python",
   "name": "python",
   "nbconvert_exporter": "python",
   "pygments_lexer": "ipython3",
   "version": "3.6.4"
  }
 },
 "nbformat": 4,
 "nbformat_minor": 2
}
